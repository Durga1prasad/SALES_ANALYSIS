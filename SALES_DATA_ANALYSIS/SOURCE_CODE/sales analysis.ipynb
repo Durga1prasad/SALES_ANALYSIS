{
 "cells": [
  {
   "cell_type": "code",
   "execution_count": 0,
   "metadata": {
    "application/vnd.databricks.v1+cell": {
     "cellMetadata": {
      "byteLimit": 2048000,
      "rowLimit": 10000
     },
     "inputWidgets": {},
     "nuid": "d0fe7e99-3c9a-4e4a-8f3a-da46f13fbbe6",
     "showTitle": false,
     "title": ""
    }
   },
   "outputs": [
    {
     "output_type": "display_data",
     "data": {
      "text/html": [
       "\n",
       "            <div>\n",
       "                <p><b>SparkSession - hive</b></p>\n",
       "                \n",
       "        <div>\n",
       "            <p><b>SparkContext</b></p>\n",
       "\n",
       "            <p><a href=\"/?o=3560554787148561#setting/sparkui/0506-040945-mfap0gp9/driver-2307743924261753691\">Spark UI</a></p>\n",
       "\n",
       "            <dl>\n",
       "              <dt>Version</dt>\n",
       "                <dd><code>v3.3.2</code></dd>\n",
       "              <dt>Master</dt>\n",
       "                <dd><code>local[8]</code></dd>\n",
       "              <dt>AppName</dt>\n",
       "                <dd><code>Databricks Shell</code></dd>\n",
       "            </dl>\n",
       "        </div>\n",
       "        \n",
       "            </div>\n",
       "        "
      ]
     },
     "metadata": {
      "application/vnd.databricks.v1+output": {
       "addedWidgets": {},
       "arguments": {},
       "data": "\n            <div>\n                <p><b>SparkSession - hive</b></p>\n                \n        <div>\n            <p><b>SparkContext</b></p>\n\n            <p><a href=\"/?o=3560554787148561#setting/sparkui/0506-040945-mfap0gp9/driver-2307743924261753691\">Spark UI</a></p>\n\n            <dl>\n              <dt>Version</dt>\n                <dd><code>v3.3.2</code></dd>\n              <dt>Master</dt>\n                <dd><code>local[8]</code></dd>\n              <dt>AppName</dt>\n                <dd><code>Databricks Shell</code></dd>\n            </dl>\n        </div>\n        \n            </div>\n        ",
       "datasetInfos": [],
       "metadata": {},
       "removedWidgets": [],
       "textData": null,
       "type": "htmlSandbox"
      }
     },
     "output_type": "display_data"
    }
   ],
   "source": [
    "spark"
   ]
  },
  {
   "cell_type": "code",
   "execution_count": 0,
   "metadata": {
    "application/vnd.databricks.v1+cell": {
     "cellMetadata": {
      "byteLimit": 2048000,
      "rowLimit": 10000
     },
     "inputWidgets": {},
     "nuid": "a120926e-a89a-4718-b2e2-a6854733103e",
     "showTitle": false,
     "title": ""
    }
   },
   "outputs": [
    {
     "output_type": "display_data",
     "data": {
      "text/plain": [
       "\u001B[0;31m---------------------------------------------------------------------------\u001B[0m\n",
       "\u001B[0;31mNameError\u001B[0m                                 Traceback (most recent call last)\n",
       "File \u001B[0;32m<command-1615632455331945>:1\u001B[0m\n",
       "\u001B[0;32m----> 1\u001B[0m FileStore\u001B[38;5;241m/\u001B[39mtables\u001B[38;5;241m/\u001B[39msales_csv\u001B[38;5;241m.\u001B[39mtxt()\n",
       "\u001B[1;32m      4\u001B[0m FileStore\u001B[38;5;241m/\u001B[39mtables\u001B[38;5;241m/\u001B[39mmenu_csv\u001B[38;5;241m.\u001B[39mtxt\n",
       "\n",
       "\u001B[0;31mNameError\u001B[0m: name 'FileStore' is not defined"
      ]
     },
     "metadata": {
      "application/vnd.databricks.v1+output": {
       "arguments": {},
       "data": "\u001B[0;31m---------------------------------------------------------------------------\u001B[0m\n\u001B[0;31mNameError\u001B[0m                                 Traceback (most recent call last)\nFile \u001B[0;32m<command-1615632455331945>:1\u001B[0m\n\u001B[0;32m----> 1\u001B[0m FileStore\u001B[38;5;241m/\u001B[39mtables\u001B[38;5;241m/\u001B[39msales_csv\u001B[38;5;241m.\u001B[39mtxt()\n\u001B[1;32m      4\u001B[0m FileStore\u001B[38;5;241m/\u001B[39mtables\u001B[38;5;241m/\u001B[39mmenu_csv\u001B[38;5;241m.\u001B[39mtxt\n\n\u001B[0;31mNameError\u001B[0m: name 'FileStore' is not defined",
       "errorSummary": "<span class='ansi-red-fg'>NameError</span>: name 'FileStore' is not defined",
       "errorTraceType": "ansi",
       "metadata": {},
       "type": "ipynbError"
      }
     },
     "output_type": "display_data"
    }
   ],
   "source": [
    "/FileStore/tables/sales_csv.txt\n",
    "\n",
    "\n",
    "FileStore/tables/menu_csv.txt\n"
   ]
  },
  {
   "cell_type": "code",
   "execution_count": 0,
   "metadata": {
    "application/vnd.databricks.v1+cell": {
     "cellMetadata": {
      "byteLimit": 2048000,
      "rowLimit": 10000
     },
     "inputWidgets": {},
     "nuid": "ddd6bad2-ddc1-48b6-a2d7-0bc2fe667b49",
     "showTitle": true,
     "title": "Create Sales Dataframe"
    }
   },
   "outputs": [
    {
     "output_type": "display_data",
     "data": {
      "text/plain": [
       ""
      ]
     },
     "metadata": {
      "application/vnd.databricks.v1+output": {
       "arguments": {},
       "data": "",
       "errorSummary": "Command skipped",
       "errorTraceType": "ansi",
       "metadata": {},
       "type": "ipynbError"
      }
     },
     "output_type": "display_data"
    }
   ],
   "source": [
    "from pyspark.sql.types import StructType,StringType,StructField,IntegerType,StringType,DateType\n",
    "\n",
    "schema=StructType([\n",
    "    StructField(\"product_id\",IntegerType(),True),\n",
    "    StructField(\"customer_id\",StringType(),True),\n",
    "    StructField(\"order_date\",DateType(),True),\n",
    "    StructField(\"location\",StringType(),True),\n",
    "    StructField(\"source_order\",StringType(),True)\n",
    "])\n",
    "\n",
    "sales_df=spark.read.format(\"csv\").option(\"inferschema\",\"true\").schema(schema).load(\"/FileStore/tables/sales_csv.txt\")\n",
    "\n",
    "display(sales_df)"
   ]
  },
  {
   "cell_type": "code",
   "execution_count": 0,
   "metadata": {
    "application/vnd.databricks.v1+cell": {
     "cellMetadata": {
      "byteLimit": 2048000,
      "rowLimit": 10000
     },
     "inputWidgets": {},
     "nuid": "d7712607-1d90-4839-9afd-ff8a15b03eba",
     "showTitle": true,
     "title": "ADDING YEAR,MONTH,QUARTER"
    }
   },
   "outputs": [
    {
     "output_type": "display_data",
     "data": {
      "text/plain": [
       ""
      ]
     },
     "metadata": {
      "application/vnd.databricks.v1+output": {
       "arguments": {},
       "data": "",
       "errorSummary": "Command skipped",
       "errorTraceType": "ansi",
       "metadata": {},
       "type": "ipynbError"
      }
     },
     "output_type": "display_data"
    }
   ],
   "source": [
    "from pyspark.sql.functions import month,year,quarter\n",
    "\n",
    "sales_df=sales_df.withColumn(\"order_year\",year(sales_df.order_date))\n",
    "sales_df=sales_df.withColumn(\"order_month\",month(sales_df.order_date))\n",
    "sales_df=sales_df.withColumn(\"order_quarter\",quarter(sales_df.order_date))\n",
    "display(sales_df)"
   ]
  },
  {
   "cell_type": "code",
   "execution_count": 0,
   "metadata": {
    "application/vnd.databricks.v1+cell": {
     "cellMetadata": {
      "byteLimit": 2048000,
      "rowLimit": 10000
     },
     "inputWidgets": {},
     "nuid": "c5830a82-20a1-4fa1-aabc-5d6123e0a5a6",
     "showTitle": true,
     "title": "MENU DATAFRAME"
    }
   },
   "outputs": [
    {
     "output_type": "display_data",
     "data": {
      "text/plain": [
       ""
      ]
     },
     "metadata": {
      "application/vnd.databricks.v1+output": {
       "arguments": {},
       "data": "",
       "errorSummary": "Command skipped",
       "errorTraceType": "ansi",
       "metadata": {},
       "type": "ipynbError"
      }
     },
     "output_type": "display_data"
    }
   ],
   "source": [
    "from pyspark.sql.types import StructType,StringType,StructField,IntegerType,StringType,DateType\n",
    "\n",
    "schema=StructType([\n",
    "    StructField(\"product_id\",IntegerType(),True),\n",
    "    StructField(\"product_name\",StringType(),True),\n",
    "    StructField(\"price\",StringType(),True),\n",
    "])\n",
    "\n",
    "menu_df=spark.read.format(\"csv\").option(\"inferschema\",\"true\").schema(schema).load(\"/FileStore/tables/menu_csv.txt\")\n",
    "\n",
    "display(menu_df)\n"
   ]
  },
  {
   "cell_type": "code",
   "execution_count": 0,
   "metadata": {
    "application/vnd.databricks.v1+cell": {
     "cellMetadata": {
      "byteLimit": 2048000,
      "rowLimit": 10000
     },
     "inputWidgets": {},
     "nuid": "1d5b5fb7-1ab0-421c-bbf3-080c5a808dbf",
     "showTitle": true,
     "title": "Total amt spent by each customer"
    }
   },
   "outputs": [
    {
     "output_type": "display_data",
     "data": {
      "text/plain": [
       ""
      ]
     },
     "metadata": {
      "application/vnd.databricks.v1+output": {
       "arguments": {},
       "data": "",
       "errorSummary": "Command skipped",
       "errorTraceType": "ansi",
       "metadata": {},
       "type": "ipynbError"
      }
     },
     "output_type": "display_data"
    }
   ],
   "source": [
    "total_amt_spent=(sales_df.join(menu_df,\"product_id\")\n",
    "                 .groupBy(\"customer_id\")\n",
    "                 .agg({\"price\":\"Sum\"})\n",
    "                 .orderBy(\"customer_id\"))\n",
    "\n",
    "\n",
    "display(total_amt_spent)"
   ]
  },
  {
   "cell_type": "code",
   "execution_count": 0,
   "metadata": {
    "application/vnd.databricks.v1+cell": {
     "cellMetadata": {
      "byteLimit": 2048000,
      "rowLimit": 10000
     },
     "inputWidgets": {},
     "nuid": "0ff4d0e5-8e9d-44ac-892c-27e17e8a5c2d",
     "showTitle": true,
     "title": "Total amt spent by each each food category"
    }
   },
   "outputs": [
    {
     "output_type": "display_data",
     "data": {
      "text/plain": [
       ""
      ]
     },
     "metadata": {
      "application/vnd.databricks.v1+output": {
       "arguments": {},
       "data": "",
       "errorSummary": "Command skipped",
       "errorTraceType": "ansi",
       "metadata": {},
       "type": "ipynbError"
      }
     },
     "output_type": "display_data"
    }
   ],
   "source": [
    "total_amt_spent_onfood=(sales_df.join(menu_df,\"product_id\")\n",
    "                        .groupBy(\"product_name\")\n",
    "                        .agg({\"price\":\"Sum\"})\n",
    "                        .orderBy(\"product_name\"))\n",
    "\n",
    "display(total_amt_spent_onfood)"
   ]
  },
  {
   "cell_type": "code",
   "execution_count": 0,
   "metadata": {
    "application/vnd.databricks.v1+cell": {
     "cellMetadata": {
      "byteLimit": 2048000,
      "rowLimit": 10000
     },
     "inputWidgets": {},
     "nuid": "c0bb1120-9dc8-4aca-9bc6-5943ae694e4b",
     "showTitle": true,
     "title": "Total amt of sales in month"
    }
   },
   "outputs": [
    {
     "output_type": "display_data",
     "data": {
      "text/plain": [
       ""
      ]
     },
     "metadata": {
      "application/vnd.databricks.v1+output": {
       "arguments": {},
       "data": "",
       "errorSummary": "Command skipped",
       "errorTraceType": "ansi",
       "metadata": {},
       "type": "ipynbError"
      }
     },
     "output_type": "display_data"
    }
   ],
   "source": [
    "total_amt_sales_of_month=(sales_df.join(menu_df,\"product_id\")\n",
    "                        .groupBy(\"order_month\")\n",
    "                        .agg({\"price\":\"Sum\"}))\n",
    "                        \n",
    "\n",
    "display(total_amt_sales_of_month)"
   ]
  },
  {
   "cell_type": "code",
   "execution_count": 0,
   "metadata": {
    "application/vnd.databricks.v1+cell": {
     "cellMetadata": {
      "byteLimit": 2048000,
      "rowLimit": 10000
     },
     "inputWidgets": {},
     "nuid": "06dc764c-bba6-412c-8981-133dd1c8d98a",
     "showTitle": true,
     "title": "Yearly sales"
    }
   },
   "outputs": [
    {
     "output_type": "display_data",
     "data": {
      "text/plain": [
       ""
      ]
     },
     "metadata": {
      "application/vnd.databricks.v1+output": {
       "arguments": {},
       "data": "",
       "errorSummary": "Command skipped",
       "errorTraceType": "ansi",
       "metadata": {},
       "type": "ipynbError"
      }
     },
     "output_type": "display_data"
    }
   ],
   "source": [
    "total_amt_sales_of_year=(sales_df.join(menu_df,\"product_id\")\n",
    "                        .groupBy(\"order_year\")\n",
    "                        .agg({\"price\":\"Sum\"}))\n",
    "\n",
    "display(total_amt_sales_of_year)"
   ]
  },
  {
   "cell_type": "code",
   "execution_count": 0,
   "metadata": {
    "application/vnd.databricks.v1+cell": {
     "cellMetadata": {
      "byteLimit": 2048000,
      "rowLimit": 10000
     },
     "inputWidgets": {},
     "nuid": "c53d0573-71e6-467a-9f1f-f7ad27a7071b",
     "showTitle": true,
     "title": "quarterly sales"
    }
   },
   "outputs": [
    {
     "output_type": "display_data",
     "data": {
      "text/plain": [
       ""
      ]
     },
     "metadata": {
      "application/vnd.databricks.v1+output": {
       "arguments": {},
       "data": "",
       "errorSummary": "Command skipped",
       "errorTraceType": "ansi",
       "metadata": {},
       "type": "ipynbError"
      }
     },
     "output_type": "display_data"
    }
   ],
   "source": [
    "total_amt_sales_of_quarter=(sales_df.join(menu_df,\"product_id\")\n",
    "                        .groupBy(\"order_quarter\")\n",
    "                        .agg({\"price\":\"Sum\"}))\n",
    "\n",
    "display(total_amt_sales_of_quarter)"
   ]
  },
  {
   "cell_type": "code",
   "execution_count": 0,
   "metadata": {
    "application/vnd.databricks.v1+cell": {
     "cellMetadata": {
      "byteLimit": 2048000,
      "rowLimit": 10000
     },
     "inputWidgets": {},
     "nuid": "f6c93330-e16b-4949-9ba5-c38ee1893a19",
     "showTitle": true,
     "title": "Total no of order by each category"
    }
   },
   "outputs": [
    {
     "output_type": "display_data",
     "data": {
      "text/plain": [
       ""
      ]
     },
     "metadata": {
      "application/vnd.databricks.v1+output": {
       "arguments": {},
       "data": "",
       "errorSummary": "Command skipped",
       "errorTraceType": "ansi",
       "metadata": {},
       "type": "ipynbError"
      }
     },
     "output_type": "display_data"
    }
   ],
   "source": [
    "from pyspark.sql.functions import count\n",
    "\n",
    "\n",
    "most_df=(sales_df.join(menu_df,\"product_id\")\n",
    "                        .groupBy(\"product_id\",\"product_name\")\n",
    "                        .agg(count(\"product_id\").alias(\"product_count\"))\n",
    "                        .orderBy('product_count',ascending=0)\n",
    "                        .drop('product_id')\n",
    "                        )               \n",
    "\n",
    "display(most_df)"
   ]
  },
  {
   "cell_type": "code",
   "execution_count": 0,
   "metadata": {
    "application/vnd.databricks.v1+cell": {
     "cellMetadata": {
      "byteLimit": 2048000,
      "rowLimit": 10000
     },
     "inputWidgets": {},
     "nuid": "30adba45-5aea-4491-914f-713a38edeb01",
     "showTitle": true,
     "title": "top rated item"
    }
   },
   "outputs": [
    {
     "output_type": "display_data",
     "data": {
      "text/plain": [
       ""
      ]
     },
     "metadata": {
      "application/vnd.databricks.v1+output": {
       "arguments": {},
       "data": "",
       "errorSummary": "Command skipped",
       "errorTraceType": "ansi",
       "metadata": {},
       "type": "ipynbError"
      }
     },
     "output_type": "display_data"
    }
   ],
   "source": [
    "from pyspark.sql.functions import count\n",
    "\n",
    "\n",
    "most_df=(sales_df.join(menu_df,\"product_id\")\n",
    "                        .groupBy(\"product_id\",\"product_name\")\n",
    "                        .agg(count(\"product_id\").alias(\"product_count\"))\n",
    "                        .orderBy('product_count',ascending=0)\n",
    "                        .drop('product_id')\n",
    "                        .limit(1)\n",
    "                        )               \n",
    "\n",
    "display(most_df)"
   ]
  },
  {
   "cell_type": "code",
   "execution_count": 0,
   "metadata": {
    "application/vnd.databricks.v1+cell": {
     "cellMetadata": {
      "byteLimit": 2048000,
      "rowLimit": 10000
     },
     "inputWidgets": {},
     "nuid": "8fcce90a-6bf9-46f4-8e23-fe40784a5079",
     "showTitle": true,
     "title": "customer frequency"
    }
   },
   "outputs": [
    {
     "output_type": "display_data",
     "data": {
      "text/plain": [
       ""
      ]
     },
     "metadata": {
      "application/vnd.databricks.v1+output": {
       "arguments": {},
       "data": "",
       "errorSummary": "Command skipped",
       "errorTraceType": "ansi",
       "metadata": {},
       "type": "ipynbError"
      }
     },
     "output_type": "display_data"
    }
   ],
   "source": [
    "from pyspark.sql.functions import countDistinct\n",
    "\n",
    "\n",
    "df=(sales_df.filter(sales_df.source_order=='Restaurant')\n",
    "                        .groupBy(\"customer_id\")\n",
    "                        .agg(countDistinct(\"order_date\")))         \n",
    "\n",
    "display(df)"
   ]
  },
  {
   "cell_type": "code",
   "execution_count": 0,
   "metadata": {
    "application/vnd.databricks.v1+cell": {
     "cellMetadata": {
      "byteLimit": 2048000,
      "rowLimit": 10000
     },
     "inputWidgets": {},
     "nuid": "ad1de51a-9a57-4396-a174-6c37f2616537",
     "showTitle": true,
     "title": "total sales by each country"
    }
   },
   "outputs": [
    {
     "output_type": "display_data",
     "data": {
      "text/plain": [
       ""
      ]
     },
     "metadata": {
      "application/vnd.databricks.v1+output": {
       "arguments": {},
       "data": "",
       "errorSummary": "Command skipped",
       "errorTraceType": "ansi",
       "metadata": {},
       "type": "ipynbError"
      }
     },
     "output_type": "display_data"
    }
   ],
   "source": [
    "df=(sales_df.join(menu_df,'product_id').groupBy(\"location\").agg({'price':'sum'}))\n",
    "display(df)"
   ]
  },
  {
   "cell_type": "code",
   "execution_count": 0,
   "metadata": {
    "application/vnd.databricks.v1+cell": {
     "cellMetadata": {
      "byteLimit": 2048000,
      "rowLimit": 10000
     },
     "inputWidgets": {},
     "nuid": "130c2f6b-2668-4ba5-8647-3b77073044f9",
     "showTitle": true,
     "title": "total sale by source order"
    }
   },
   "outputs": [
    {
     "output_type": "display_data",
     "data": {
      "text/plain": [
       ""
      ]
     },
     "metadata": {
      "application/vnd.databricks.v1+output": {
       "arguments": {},
       "data": "",
       "errorSummary": "Command skipped",
       "errorTraceType": "ansi",
       "metadata": {},
       "type": "ipynbError"
      }
     },
     "output_type": "display_data"
    }
   ],
   "source": [
    "df=(sales_df.join(menu_df,'product_id').groupBy(\"source_order\").agg({'price':'sum'}))\n",
    "display(df)"
   ]
  }
 ],
 "metadata": {
  "application/vnd.databricks.v1+notebook": {
   "dashboards": [
    {
     "elements": [
      {
       "dashboardResultIndex": null,
       "elementNUID": "463013ad-6b9d-445a-adea-91281c2dadc2",
       "elementType": "command",
       "guid": "0fc40774-a7e5-4595-952c-d46a608bedb3",
       "options": {
        "autoScaleImg": false,
        "scale": 0,
        "showTitle": true,
        "title": "Total number of order by each category",
        "titleAlign": "center"
       },
       "position": {
        "height": 12,
        "width": 12,
        "x": 12,
        "y": 23,
        "z": null
       },
       "resultIndex": null
      },
      {
       "dashboardResultIndex": null,
       "elementNUID": "d79f0631-4b46-4735-9ec5-36f3b9b888ac",
       "elementType": "command",
       "guid": "14ae8a6e-197d-4a7b-8937-499f2c7504c2",
       "options": {
        "autoScaleImg": false,
        "scale": 0,
        "showTitle": true,
        "title": "Total Sales By Order Source",
        "titleAlign": "center"
       },
       "position": {
        "height": 6,
        "width": 12,
        "x": 0,
        "y": 29,
        "z": null
       },
       "resultIndex": null
      },
      {
       "dashboardResultIndex": null,
       "elementNUID": "3bae6cbe-6c42-4791-a422-4ce1e8dda277",
       "elementType": "command",
       "guid": "1e17fe0f-35de-49a7-81fe-59bce81ffa55",
       "options": {
        "autoScaleImg": false,
        "scale": 0,
        "showTitle": true,
        "title": "Yearly Sales",
        "titleAlign": "center"
       },
       "position": {
        "height": 6,
        "width": 12,
        "x": 12,
        "y": 11,
        "z": null
       },
       "resultIndex": null
      },
      {
       "dashboardResultIndex": null,
       "elementNUID": "3340fbe4-ceac-41e4-8f3f-6b0de851d0bd",
       "elementType": "command",
       "guid": "2951961e-d0f3-486e-9cf3-4fcfe8bf69a0",
       "options": {
        "autoScaleImg": false,
        "scale": 0,
        "showTitle": true,
        "title": "Top Ordered Item",
        "titleAlign": "center"
       },
       "position": {
        "height": 5,
        "width": 24,
        "x": 0,
        "y": 0,
        "z": null
       },
       "resultIndex": null
      },
      {
       "dashboardResultIndex": null,
       "elementNUID": "1639c9d9-7afe-45fa-84fd-419d66570038",
       "elementType": "command",
       "guid": "4cf34388-a167-4fc9-9c5f-850839eb5eeb",
       "options": {
        "autoScaleImg": false,
        "scale": 0,
        "showTitle": true,
        "title": "Quarterly Sales",
        "titleAlign": "center"
       },
       "position": {
        "height": 6,
        "width": 12,
        "x": 0,
        "y": 17,
        "z": null
       },
       "resultIndex": null
      },
      {
       "dashboardResultIndex": null,
       "elementNUID": "f4639874-1f87-415e-92c3-03299b916566",
       "elementType": "command",
       "guid": "9f9d6996-aa5a-4d49-a1df-a84da01b7acc",
       "options": {
        "autoScaleImg": false,
        "scale": 0,
        "showTitle": true,
        "title": "Total Amount Of Sales In Each Month",
        "titleAlign": "center"
       },
       "position": {
        "height": 6,
        "width": 12,
        "x": 0,
        "y": 11,
        "z": null
       },
       "resultIndex": null
      },
      {
       "dashboardResultIndex": null,
       "elementNUID": "7479860e-637f-4fbc-be81-da675ecdb2ed",
       "elementType": "command",
       "guid": "b78d7be4-6a86-406f-865b-61fd96f4d0f9",
       "options": {
        "autoScaleImg": false,
        "scale": 0,
        "showTitle": true,
        "title": "Total Sales By  Each Country",
        "titleAlign": "center"
       },
       "position": {
        "height": 6,
        "width": 12,
        "x": 12,
        "y": 17,
        "z": null
       },
       "resultIndex": null
      },
      {
       "dashboardResultIndex": null,
       "elementNUID": "2cf60644-7e7a-42a9-ac35-e1a114614316",
       "elementType": "command",
       "guid": "d9e06040-da6b-4541-a5ca-15d7ac7b06a9",
       "options": {
        "autoScaleImg": false,
        "scale": 0,
        "showTitle": true,
        "title": "Frequency of customer visited to Restaurant",
        "titleAlign": "center"
       },
       "position": {
        "height": 6,
        "width": 12,
        "x": 0,
        "y": 23,
        "z": null
       },
       "resultIndex": null
      },
      {
       "dashboardResultIndex": null,
       "elementNUID": "79d6c40e-c784-4a34-9142-af66bb02a43f",
       "elementType": "command",
       "guid": "db516923-d50e-4a76-92b3-513c402eb014",
       "options": {
        "autoScaleImg": false,
        "scale": 0,
        "showTitle": true,
        "title": "Total Amount Spent By Each Food Category",
        "titleAlign": "center"
       },
       "position": {
        "height": 6,
        "width": 12,
        "x": 12,
        "y": 5,
        "z": null
       },
       "resultIndex": null
      },
      {
       "dashboardResultIndex": null,
       "elementNUID": "a0696253-15dd-4a3c-b538-e103574485f7",
       "elementType": "command",
       "guid": "f46bdfae-e7b4-4226-8712-62ddcdac2bb3",
       "options": {
        "autoScaleImg": false,
        "scale": 0,
        "showTitle": true,
        "title": "Total Amount Spent By Each Customer",
        "titleAlign": "center"
       },
       "position": {
        "height": 6,
        "width": 12,
        "x": 0,
        "y": 5,
        "z": null
       },
       "resultIndex": null
      }
     ],
     "globalVars": {},
     "guid": "",
     "layoutOption": {
      "grid": true,
      "stack": true
     },
     "nuid": "f209e0c3-83cb-440a-b618-9b1e73810670",
     "origId": 1071769757797916,
     "title": "sales analysis",
     "version": "DashboardViewV1",
     "width": 1024
    },
    {
     "elements": [
      {
       "dashboardResultIndex": null,
       "elementNUID": "7479860e-637f-4fbc-be81-da675ecdb2ed",
       "elementType": "command",
       "guid": "03775d35-e0ba-44b2-8f0b-553b4bf1d531",
       "options": null,
       "position": {
        "height": 6,
        "width": 12,
        "x": 0,
        "y": 54,
        "z": null
       },
       "resultIndex": null
      },
      {
       "dashboardResultIndex": null,
       "elementNUID": "1639c9d9-7afe-45fa-84fd-419d66570038",
       "elementType": "command",
       "guid": "0f9817a1-4257-443e-86b2-e4af6b250af2",
       "options": null,
       "position": {
        "height": 6,
        "width": 12,
        "x": 0,
        "y": 30,
        "z": null
       },
       "resultIndex": null
      },
      {
       "dashboardResultIndex": null,
       "elementNUID": "2cf60644-7e7a-42a9-ac35-e1a114614316",
       "elementType": "command",
       "guid": "18694412-c6d4-4d9f-86b3-5bcb11e6b5cb",
       "options": null,
       "position": {
        "height": 6,
        "width": 12,
        "x": 0,
        "y": 48,
        "z": null
       },
       "resultIndex": null
      },
      {
       "dashboardResultIndex": null,
       "elementNUID": "463013ad-6b9d-445a-adea-91281c2dadc2",
       "elementType": "command",
       "guid": "1a1e8f06-1e04-4b13-9549-5cde458f363b",
       "options": null,
       "position": {
        "height": 6,
        "width": 12,
        "x": 0,
        "y": 36,
        "z": null
       },
       "resultIndex": null
      },
      {
       "dashboardResultIndex": null,
       "elementNUID": "79d6c40e-c784-4a34-9142-af66bb02a43f",
       "elementType": "command",
       "guid": "1bfebbe4-3a46-4e43-a329-e456e67fe0d4",
       "options": null,
       "position": {
        "height": 6,
        "width": 12,
        "x": 0,
        "y": 12,
        "z": null
       },
       "resultIndex": null
      },
      {
       "dashboardResultIndex": null,
       "elementNUID": "3340fbe4-ceac-41e4-8f3f-6b0de851d0bd",
       "elementType": "command",
       "guid": "22dc69e1-eaa9-4318-b831-d7ab99dbf561",
       "options": null,
       "position": {
        "height": 6,
        "width": 12,
        "x": 0,
        "y": 42,
        "z": null
       },
       "resultIndex": null
      },
      {
       "dashboardResultIndex": null,
       "elementNUID": "3bae6cbe-6c42-4791-a422-4ce1e8dda277",
       "elementType": "command",
       "guid": "2a2dc0b7-f28d-4152-8a74-96d447e90770",
       "options": null,
       "position": {
        "height": 6,
        "width": 12,
        "x": 0,
        "y": 24,
        "z": null
       },
       "resultIndex": null
      },
      {
       "dashboardResultIndex": null,
       "elementNUID": "f4639874-1f87-415e-92c3-03299b916566",
       "elementType": "command",
       "guid": "b7970da7-c9d0-46da-b874-6bf9c169eeec",
       "options": null,
       "position": {
        "height": 6,
        "width": 12,
        "x": 0,
        "y": 18,
        "z": null
       },
       "resultIndex": null
      },
      {
       "dashboardResultIndex": null,
       "elementNUID": "d79f0631-4b46-4735-9ec5-36f3b9b888ac",
       "elementType": "command",
       "guid": "e43f49a8-3142-46f7-9257-e7ba29b24684",
       "options": null,
       "position": {
        "height": 6,
        "width": 12,
        "x": 0,
        "y": 60,
        "z": null
       },
       "resultIndex": null
      },
      {
       "dashboardResultIndex": null,
       "elementNUID": "a0696253-15dd-4a3c-b538-e103574485f7",
       "elementType": "command",
       "guid": "ec2c32ef-74a3-4d04-a4d3-9819e36e3591",
       "options": null,
       "position": {
        "height": 6,
        "width": 12,
        "x": 0,
        "y": 6,
        "z": null
       },
       "resultIndex": null
      },
      {
       "dashboardResultIndex": 0,
       "elementNUID": "d0fe7e99-3c9a-4e4a-8f3a-da46f13fbbe6",
       "elementType": "command",
       "guid": "f1afbd10-dbc6-4a3f-b1d2-e4bfff826d2a",
       "options": null,
       "position": {
        "height": 6,
        "width": 12,
        "x": 0,
        "y": 0,
        "z": null
       },
       "resultIndex": null
      }
     ],
     "globalVars": {},
     "guid": "",
     "layoutOption": {
      "grid": true,
      "stack": true
     },
     "nuid": "90eb1553-b32c-4748-b22a-2e4426020677",
     "origId": 1071769757797917,
     "title": "Untitled",
     "version": "DashboardViewV1",
     "width": 1024
    },
    {
     "elements": [
      {
       "dashboardResultIndex": null,
       "elementNUID": "a0696253-15dd-4a3c-b538-e103574485f7",
       "elementType": "command",
       "guid": "30a00342-ffdb-41b6-b6d8-02f1a61457f3",
       "options": null,
       "position": {
        "height": 6,
        "width": 12,
        "x": 0,
        "y": 6,
        "z": null
       },
       "resultIndex": null
      },
      {
       "dashboardResultIndex": null,
       "elementNUID": "3340fbe4-ceac-41e4-8f3f-6b0de851d0bd",
       "elementType": "command",
       "guid": "41b55749-2c1d-4a2e-9e98-5dafceca4f1f",
       "options": null,
       "position": {
        "height": 6,
        "width": 24,
        "x": 0,
        "y": 0,
        "z": null
       },
       "resultIndex": null
      },
      {
       "dashboardResultIndex": null,
       "elementNUID": "d79f0631-4b46-4735-9ec5-36f3b9b888ac",
       "elementType": "command",
       "guid": "6a137485-5f71-4ccc-bc2f-11a88adba6dd",
       "options": null,
       "position": {
        "height": 6,
        "width": 12,
        "x": 0,
        "y": 32,
        "z": null
       },
       "resultIndex": null
      },
      {
       "dashboardResultIndex": null,
       "elementNUID": "1639c9d9-7afe-45fa-84fd-419d66570038",
       "elementType": "command",
       "guid": "89cccf1d-c407-40ba-8b67-c7002ca0b81b",
       "options": {
        "autoScaleImg": false,
        "scale": 0,
        "showTitle": false,
        "titleAlign": "center"
       },
       "position": {
        "height": 6,
        "width": 12,
        "x": 12,
        "y": 19,
        "z": null
       },
       "resultIndex": null
      },
      {
       "dashboardResultIndex": null,
       "elementNUID": "3bae6cbe-6c42-4791-a422-4ce1e8dda277",
       "elementType": "command",
       "guid": "91160892-b8bf-4561-a24d-91ea814268d7",
       "options": null,
       "position": {
        "height": 6,
        "width": 12,
        "x": 0,
        "y": 19,
        "z": null
       },
       "resultIndex": null
      },
      {
       "dashboardResultIndex": null,
       "elementNUID": "463013ad-6b9d-445a-adea-91281c2dadc2",
       "elementType": "command",
       "guid": "c19cb1a6-6ac9-4df2-b27e-b63c1276e519",
       "options": null,
       "position": {
        "height": 8,
        "width": 24,
        "x": 0,
        "y": 38,
        "z": null
       },
       "resultIndex": null
      },
      {
       "dashboardResultIndex": null,
       "elementNUID": "7479860e-637f-4fbc-be81-da675ecdb2ed",
       "elementType": "command",
       "guid": "c36e6848-c63e-4965-927d-841036d09cc0",
       "options": null,
       "position": {
        "height": 6,
        "width": 12,
        "x": 12,
        "y": 32,
        "z": null
       },
       "resultIndex": null
      },
      {
       "dashboardResultIndex": null,
       "elementNUID": "79d6c40e-c784-4a34-9142-af66bb02a43f",
       "elementType": "command",
       "guid": "d4609611-1ed8-4d82-930a-e5fde50e0537",
       "options": null,
       "position": {
        "height": 7,
        "width": 24,
        "x": 0,
        "y": 12,
        "z": null
       },
       "resultIndex": null
      },
      {
       "dashboardResultIndex": null,
       "elementNUID": "2cf60644-7e7a-42a9-ac35-e1a114614316",
       "elementType": "command",
       "guid": "dba19b0d-e742-4e80-bca1-2dc626ae542a",
       "options": null,
       "position": {
        "height": 7,
        "width": 24,
        "x": 0,
        "y": 25,
        "z": null
       },
       "resultIndex": null
      },
      {
       "dashboardResultIndex": null,
       "elementNUID": "f4639874-1f87-415e-92c3-03299b916566",
       "elementType": "command",
       "guid": "e90badd3-602d-44c3-9cd1-e54b0f6a5ce9",
       "options": null,
       "position": {
        "height": 6,
        "width": 12,
        "x": 12,
        "y": 6,
        "z": null
       },
       "resultIndex": null
      }
     ],
     "globalVars": {},
     "guid": "",
     "layoutOption": {
      "grid": true,
      "stack": true
     },
     "nuid": "f841e09b-33a2-4b21-945e-2fa3d0be23e1",
     "origId": 1071769757797918,
     "title": "Sales Analysis",
     "version": "DashboardViewV1",
     "width": 1024
    },
    {
     "elements": [
      {
       "dashboardResultIndex": null,
       "elementNUID": "d79f0631-4b46-4735-9ec5-36f3b9b888ac",
       "elementType": "command",
       "guid": "07a82bcd-deef-4baf-aa10-2a025b2f5784",
       "options": {
        "autoScaleImg": false,
        "scale": 0,
        "showTitle": true,
        "title": "Source Orders",
        "titleAlign": "center"
       },
       "position": {
        "height": 7,
        "width": 24,
        "x": 0,
        "y": 47,
        "z": null
       },
       "resultIndex": null
      },
      {
       "dashboardResultIndex": null,
       "elementNUID": "1639c9d9-7afe-45fa-84fd-419d66570038",
       "elementType": "command",
       "guid": "13765cf9-a268-4f19-b939-efe3a8ccc085",
       "options": {
        "autoScaleImg": false,
        "scale": 0,
        "showTitle": true,
        "title": "Quarterly Sales",
        "titleAlign": "center"
       },
       "position": {
        "height": 6,
        "width": 12,
        "x": 0,
        "y": 26,
        "z": null
       },
       "resultIndex": null
      },
      {
       "dashboardResultIndex": null,
       "elementNUID": "2cf60644-7e7a-42a9-ac35-e1a114614316",
       "elementType": "command",
       "guid": "1b6b8bda-488c-454b-82e8-63b6503997ff",
       "options": {
        "autoScaleImg": false,
        "scale": 0,
        "showTitle": true,
        "title": "Frequency of customer visited to Restaurant",
        "titleAlign": "center"
       },
       "position": {
        "height": 7,
        "width": 24,
        "x": 0,
        "y": 32,
        "z": null
       },
       "resultIndex": null
      },
      {
       "dashboardResultIndex": null,
       "elementNUID": "7479860e-637f-4fbc-be81-da675ecdb2ed",
       "elementType": "command",
       "guid": "3a73cdba-0ed9-47fb-b3c0-dfaf3424622d",
       "options": {
        "autoScaleImg": false,
        "scale": 0,
        "showTitle": true,
        "title": "Total Sales By  Each Country",
        "titleAlign": "center"
       },
       "position": {
        "height": 6,
        "width": 12,
        "x": 12,
        "y": 26,
        "z": null
       },
       "resultIndex": null
      },
      {
       "dashboardResultIndex": null,
       "elementNUID": "a0696253-15dd-4a3c-b538-e103574485f7",
       "elementType": "command",
       "guid": "4855f4d7-acd8-4db9-a7ec-28a4d7524a58",
       "options": {
        "autoScaleImg": false,
        "scale": 0,
        "showTitle": true,
        "title": "Total Amount Spent By Each Customer",
        "titleAlign": "center"
       },
       "position": {
        "height": 6,
        "width": 12,
        "x": 0,
        "y": 6,
        "z": null
       },
       "resultIndex": null
      },
      {
       "dashboardResultIndex": null,
       "elementNUID": "3340fbe4-ceac-41e4-8f3f-6b0de851d0bd",
       "elementType": "command",
       "guid": "8a9500a9-c4dd-4395-af1b-d5857cf542c2",
       "options": {
        "autoScaleImg": false,
        "scale": 0,
        "showTitle": true,
        "title": "Top Rated Item",
        "titleAlign": "center"
       },
       "position": {
        "height": 6,
        "width": 24,
        "x": 0,
        "y": 0,
        "z": null
       },
       "resultIndex": null
      },
      {
       "dashboardResultIndex": null,
       "elementNUID": "463013ad-6b9d-445a-adea-91281c2dadc2",
       "elementType": "command",
       "guid": "8fa8da49-7cd8-4fd1-86b8-bfd6e460c8af",
       "options": {
        "autoScaleImg": false,
        "scale": 0,
        "showTitle": true,
        "title": "Top Ordered Items",
        "titleAlign": "center"
       },
       "position": {
        "height": 8,
        "width": 24,
        "x": 0,
        "y": 39,
        "z": null
       },
       "resultIndex": null
      },
      {
       "dashboardResultIndex": null,
       "elementNUID": "f4639874-1f87-415e-92c3-03299b916566",
       "elementType": "command",
       "guid": "b5e48300-7c57-4484-bd70-62e31505b139",
       "options": {
        "autoScaleImg": false,
        "scale": 0,
        "showTitle": true,
        "title": "Total Amount Of Sales In Each Month",
        "titleAlign": "center"
       },
       "position": {
        "height": 6,
        "width": 12,
        "x": 12,
        "y": 6,
        "z": null
       },
       "resultIndex": null
      },
      {
       "dashboardResultIndex": null,
       "elementNUID": "3bae6cbe-6c42-4791-a422-4ce1e8dda277",
       "elementType": "command",
       "guid": "d830f069-805e-411f-b4f1-de4ffc778d65",
       "options": {
        "autoScaleImg": false,
        "scale": 0,
        "showTitle": true,
        "title": "Yearly Sales",
        "titleAlign": "center"
       },
       "position": {
        "height": 7,
        "width": 24,
        "x": 0,
        "y": 19,
        "z": null
       },
       "resultIndex": null
      },
      {
       "dashboardResultIndex": null,
       "elementNUID": "79d6c40e-c784-4a34-9142-af66bb02a43f",
       "elementType": "command",
       "guid": "ffe24298-a72c-47c9-a821-aacdfa3bcb6a",
       "options": {
        "autoScaleImg": false,
        "scale": 0,
        "showTitle": true,
        "title": "Total Amount Spent By Each Food Category",
        "titleAlign": "center"
       },
       "position": {
        "height": 7,
        "width": 24,
        "x": 0,
        "y": 12,
        "z": null
       },
       "resultIndex": null
      }
     ],
     "globalVars": {},
     "guid": "",
     "layoutOption": {
      "grid": true,
      "stack": true
     },
     "nuid": "6b4ae08d-7579-4720-8571-69615cf1a126",
     "origId": 1071769757797919,
     "title": "Sales Analysis",
     "version": "DashboardViewV1",
     "width": 1024
    }
   ],
   "language": "python",
   "notebookMetadata": {
    "pythonIndentUnit": 4
   },
   "notebookName": "sales analysis",
   "widgets": {}
  }
 },
 "nbformat": 4,
 "nbformat_minor": 0
}
